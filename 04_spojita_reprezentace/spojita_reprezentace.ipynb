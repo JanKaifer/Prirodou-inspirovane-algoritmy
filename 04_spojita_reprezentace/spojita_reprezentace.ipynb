{
 "cells": [
  {
   "cell_type": "markdown",
   "metadata": {},
   "source": [
    "# Evoluční algoritmy - spojitá a kombinatorická optimalizace\n",
    "\n",
    "Minule jsme si ukazovali jednoduchý genetický algoritmus, který pracoval s binárními jedinci. Dnes se podíváme na spojité a celočíselné reprezentace jedinců a na další druhy evolučních operátorů.\n",
    "\n",
    "## Minimalizace Rastrigin funkce\n",
    "\n",
    "V následujícím cvičení si vyzkoušíme napsat jednoduchý evoluční algoritmus pro minimalizace [Rastrigin funkce](https://en.wikipedia.org/wiki/Rastrigin_function). Tato funkce je typickým příkladem nelineární funkce a běžně se používá při testování chování optimalizačních algoritmů. Nalezení jejího globálního minima je složité, protože obsahuje spoustu lokálních minim. Globální minimum se nachází v bodě 0."
   ]
  },
  {
   "cell_type": "code",
   "execution_count": 1,
   "metadata": {},
   "outputs": [],
   "source": [
    "import numpy as np\n",
    "import random\n",
    "import copy\n",
    "import math\n",
    "%matplotlib inline\n",
    "import matplotlib.pyplot as plt"
   ]
  },
  {
   "cell_type": "markdown",
   "metadata": {},
   "source": [
    "Nejprve si definujem, jak tedy vypadá ona výše zmíněná funkce, kterou budeme chtít minimalizovat a naimplementujeme podle toho fitness. Hodnota fitness je vlastně hodnota rastrigin funkce v daném bodě, který jedinec reprezentuje. Protože evoluční algoritmus je maximalizační algoritmus, obrátíme znaménko u výsledné hodnoty funkce."
   ]
  },
  {
   "cell_type": "code",
   "execution_count": 2,
   "metadata": {},
   "outputs": [],
   "source": [
    "def fitness(individual):\n",
    "    N = len(individual)\n",
    "    A = 10\n",
    "    value = A*N\n",
    "    for i in range(0,len(individual)):\n",
    "        value += individual[i]**2 - A*math.cos(2*math.pi*individual[i])\n",
    "    return -value"
   ]
  },
  {
   "cell_type": "markdown",
   "metadata": {},
   "source": [
    "Potom je třeba si rozmyslet, jak bude vypadat jedinec. Bude to bude floating point vektor, kde hodnoty budou čísla z intervalu [-5.12,5.12] podle definičního oboru rastrigin funkce. Napíšeme si tedy funkci na vytvoření náhodné populace."
   ]
  },
  {
   "cell_type": "code",
   "execution_count": 3,
   "metadata": {},
   "outputs": [],
   "source": [
    "def random_population(population_size, individual_size):\n",
    "    population = []\n",
    "    \n",
    "    for i in range(0,population_size):\n",
    "        individual = np.random.uniform(-5.12, 5.12, size=(individual_size,))\n",
    "        population.append(individual)\n",
    "        \n",
    "    return population"
   ]
  },
  {
   "cell_type": "markdown",
   "metadata": {},
   "source": [
    "Pro vytvořenou populaci jedinců si napíšeme svoje operátory křížení a mutace. Křížení může být aritmetické, například vážený průměr dvou jedinců, nebo strukturální, kdy opět prohazujeme části jedinců. Zde si zkusíme naimplementovat aritmetické křížení pomocí průměrů hodnot ze dvou vybraných jedinců."
   ]
  },
  {
   "cell_type": "code",
   "execution_count": 4,
   "metadata": {},
   "outputs": [],
   "source": [
    "def crossover_mean(population, cross_prob=0.8, alpha=0.25):\n",
    "    new_population = []\n",
    "    \n",
    "    for i in range(0,len(population)//2):\n",
    "        indiv1 = copy.deepcopy(population[2*i])\n",
    "        indiv2 = copy.deepcopy(population[2*i+1])\n",
    "        child1 = indiv1\n",
    "        child2 = indiv2\n",
    "        if random.random()<cross_prob:\n",
    "            for i in range(0, len(indiv1)):\n",
    "                child1[i] = alpha*indiv1[i] + (1-alpha)*indiv2[i]\n",
    "                child2[i] = (1-alpha)*indiv1[i] + alpha*indiv2[i]\n",
    "        new_population.append(child1)\n",
    "        new_population.append(child2)\n",
    "        \n",
    "    return new_population"
   ]
  },
  {
   "cell_type": "markdown",
   "metadata": {},
   "source": [
    "Mutace může být buď netížená, což znamená, že se pro mutovanou pozici vygeneruje nové číslo z daného rozsahu hodnot, nebo zatížená, kdy k hodnotě v jedinci přičtu nějaké číslo z normálního rozdělení s danou odchylkou (například 1) a nulovou střední hodnotou. Vyzoušíme si zda naimplementiovat nezatíženou mutaci, která pro mutovanou pozici vybere nové náhodné číslo z rozsahu možných hodnot rastrigin funkce."
   ]
  },
  {
   "cell_type": "code",
   "execution_count": 5,
   "metadata": {},
   "outputs": [],
   "source": [
    "def mutation_switch(population,individual_mutation_prob=0.2,value_mutation_prob=0.1):\n",
    "    new_population = []\n",
    "    for i in range(0,len(population)):\n",
    "        individual = copy.deepcopy(population[i])\n",
    "        if random.random()< individual_mutation_prob:\n",
    "            for i in range(0,len(individual)):\n",
    "                if random.random() < value_mutation_prob:\n",
    "                    individual[i] = np.random.uniform(-5.12, 5.12)\n",
    "        new_population.append(individual)\n",
    "    return new_population"
   ]
  },
  {
   "cell_type": "markdown",
   "metadata": {},
   "source": [
    "Na závěr si definujeme ještě selekci. Tentokrát si vyzkoušíme turnajovou selekci, kdy se náhodně vybere k jedinců z populace a udělá se mezi nimi turnaj a vybere se ten s nejlepší fitness. Tato selekce má oproti ruletové velkou výhodu -- nezávisí na hodnotě fitness, ale pouze na pořadí jedinců v populaci podle fitness. Tedy nám nevadí, že vracíme zápornou hodnotu fitness a selekce se nám nerozbije."
   ]
  },
  {
   "cell_type": "code",
   "execution_count": 6,
   "metadata": {},
   "outputs": [],
   "source": [
    "def selection(population,fitness_value, k): \n",
    "    new_population = []\n",
    "    for i in range(0,len(population)):\n",
    "        individuals = []\n",
    "        fitnesses = []\n",
    "        for _ in range(0,k):\n",
    "            idx = random.randint(0,len(population)-1)\n",
    "            individuals.append(population[idx])\n",
    "            fitnesses.append(fitness_value[idx])\n",
    "        new_population.append(copy.deepcopy(individuals[np.argmax(fitnesses)]))\n",
    "    return new_population "
   ]
  },
  {
   "cell_type": "markdown",
   "metadata": {},
   "source": [
    "Nyní si stejně jako v minulé hodině definujeme celý evoluční algoritmus a pak ho pustíme a sledujeme, co se bude dít."
   ]
  },
  {
   "cell_type": "code",
   "execution_count": 7,
   "metadata": {},
   "outputs": [],
   "source": [
    "def evolution(population_size, individual_size, max_generations):\n",
    "    max_fitness = []\n",
    "    population = random_population(population_size,individual_size)\n",
    "    \n",
    "    for i in range(0,max_generations):\n",
    "        fitness_value = list(map(fitness, population))\n",
    "        max_fitness.append(max(fitness_value))\n",
    "        parents = selection(population,fitness_value,2)\n",
    "        children = crossover_mean(parents)\n",
    "        mutated_children = mutation_switch(children)\n",
    "        population = mutated_children\n",
    "        \n",
    "    # spocitame fitness i pro posledni populaci\n",
    "    fitness_value = list(map(fitness, population))\n",
    "    max_fitness.append(max(fitness_value))\n",
    "    best_individual = population[np.argmax(fitness_value)]\n",
    "    \n",
    "    return best_individual, population, max_fitness"
   ]
  },
  {
   "cell_type": "code",
   "execution_count": 8,
   "metadata": {
    "scrolled": true
   },
   "outputs": [
    {
     "name": "stdout",
     "output_type": "stream",
     "text": [
      "best fitness:  -6.528734715893282\n",
      "best individual:  [ 0.00817459  1.00812228  0.98454248  0.01220511  0.09329672  0.01674955\n",
      "  0.03936671 -0.02123823  0.02930482 -0.91798975]\n"
     ]
    },
    {
     "data": {
      "text/plain": [
       "Text(0.5, 0, 'Generace')"
      ]
     },
     "execution_count": 8,
     "metadata": {},
     "output_type": "execute_result"
    },
    {
     "data": {
      "image/png": "[encoded data removed]",
      "text/plain": [
       "<Figure size 432x288 with 1 Axes>"
      ]
     },
     "metadata": {
      "needs_background": "light"
     },
     "output_type": "display_data"
    }
   ],
   "source": [
    "best, population, max_fitness = evolution(population_size=100,individual_size=10,max_generations=100)\n",
    "\n",
    "print('best fitness: ', fitness(best))\n",
    "print('best individual: ', best)\n",
    "\n",
    "\n",
    "plt.plot(max_fitness)\n",
    "plt.ylabel('Fitness')\n",
    "plt.xlabel('Generace')\n"
   ]
  },
  {
   "cell_type": "markdown",
   "metadata": {},
   "source": [
    "## Úkol na cvičení\n",
    "\n",
    "V kódu výše je naprogramovaná nejjednodušší mutace -- nezatížená. Zkuste si napsat alespoň dva další druhy mutace z následujích možností a porovnat, jak se bude evoluční algoritmus chovat.\n",
    "1. Zatížená mutace, kdy se k hodnotě v jedinci přičítá číslo z normalního rozdělení se střední hodnotou 0 a rozptylem sigma. Sigma se třeba navíc může během každých n generací postupně snižovat. \n",
    "\n",
    "2. Mutace s 1/5 pravidlem, která se používá hlavně u evolučních strategií a probíhá podobně jako zatížená mutace: přičítá k hodnotě číslo z náhodného rozdělení s 0 střední hodnotou a rozptylem sigma. Sigma se updatuje v každém kroku následovně: máme jedince a podíváme se, kolik je v populaci jedinců lepších než ten náš. Sigmu pak upravíme pomocí jednoduché rovnice: sigma = sigma * e^(počet_lepších_jedinců/počet_všech_jedinců-1/5).\n",
    "\n",
    "3. Mutace z diferenciální evoluce, která vybere náhodně pro daného jedince dva další a složku po složce dělá rozdíl jejich hodnot a ten navíc vynásobí nějakou konstantou (třeba 0.8) a to pak přičte k hodnotám v původním jedinci. \n",
    "\n",
    "Můžete samozřejmě zkusit vymyslet i nějakou vlastní mutaci, nebo třeba zkusit vypnout mutaci nebo vypnout křížení a sledovat, co se bude s evolucí dít.\n",
    "\n",
    "\n"
   ]
  },
  {
   "cell_type": "markdown",
   "metadata": {},
   "source": [
    "## Deap knihovna\n",
    "\n",
    "Nyní si opět vyzkoušíme přepsat výše zmíněný problém minimalizace rastrigin funkce pomocí operátorů knihovny deap, abychom si lépe vyzkoušeli, jak se s ní pracuje a jak v ní tvořit svoje vlastní operátory, které se nám budou hodit příští hodinu u genetického programování (to už to bez něj totiž opravdu tak snadno nepůjde)."
   ]
  },
  {
   "cell_type": "code",
   "execution_count": 9,
   "metadata": {},
   "outputs": [],
   "source": [
    "from deap import base\n",
    "from deap import creator\n",
    "from deap import tools\n",
    "from deap import algorithms"
   ]
  },
  {
   "cell_type": "markdown",
   "metadata": {},
   "source": [
    "Pro jistotu si znovu definujeme vlastní funkce mutace, křížení a fitness funkci. Mutace bude opět nezatížená a křížení zůstane pomocí průměru dvou hodnot."
   ]
  },
  {
   "cell_type": "code",
   "execution_count": 13,
   "metadata": {},
   "outputs": [],
   "source": [
    "def rastring_function(individual):\n",
    "    N = len(individual)\n",
    "    A = 10\n",
    "    value = A*N\n",
    "    for i in range(0,len(individual)):\n",
    "        value += individual[i]**2 - A*math.cos(2*math.pi*individual[i])\n",
    "    return value,\n",
    "\n",
    "def mutation_switch(individual,indpb):\n",
    "    for i in range(0,len(individual)):\n",
    "        if random.random() < indpb:\n",
    "            individual[i] = np.random.uniform(-5.12, 5.12)\n",
    "    return individual,\n",
    "\n",
    "def crossover_mean(individual1, individual2, alpha=0.25):\n",
    "    child1 = individual1\n",
    "    child2 = individual2\n",
    "    for i in range(0, len(individual1)):\n",
    "        child1[i] = alpha*individual1[i] + (1-alpha)*individual2[i]\n",
    "        child2[i] = (1-alpha)*individual1[i] + alpha*individual2[i]\n",
    "    return child1, child2"
   ]
  },
  {
   "cell_type": "markdown",
   "metadata": {},
   "source": [
    "Pak si zadefinujeme nový toolbox a přídáme do něj naše operátory. "
   ]
  },
  {
   "cell_type": "code",
   "execution_count": 14,
   "metadata": {},
   "outputs": [
    {
     "name": "stderr",
     "output_type": "stream",
     "text": [
      "C:\\Users\\katie\\anaconda3\\lib\\site-packages\\deap\\creator.py:138: RuntimeWarning: A class named 'FitnessMin' has already been created and it will be overwritten. Consider deleting previous creation of that class or rename it.\n",
      "  warnings.warn(\"A class named '{0}' has already been created and it \"\n",
      "C:\\Users\\katie\\anaconda3\\lib\\site-packages\\deap\\creator.py:138: RuntimeWarning: A class named 'Individual' has already been created and it will be overwritten. Consider deleting previous creation of that class or rename it.\n",
      "  warnings.warn(\"A class named '{0}' has already been created and it \"\n"
     ]
    }
   ],
   "source": [
    "creator.create(\"FitnessMin\", base.Fitness, weights=(-1.0,)) # -1 protoze chci minimalizovat funkci\n",
    "creator.create(\"Individual\", list, fitness=creator.FitnessMin)\n",
    "\n",
    "toolbox = base.Toolbox()\n",
    "\n",
    "toolbox.register(\"attr_float\", random.uniform,-5.12, 5.12)\n",
    "toolbox.register(\"individual\", tools.initRepeat, creator.Individual, toolbox.attr_float, n=4)\n",
    "toolbox.register(\"population\", tools.initRepeat, list, toolbox.individual)\n",
    "\n",
    "toolbox.register(\"evaluate\", rastring_function)\n",
    "toolbox.register(\"mate\", crossover_mean)\n",
    "toolbox.register(\"mutate\", mutation_switch, indpb=0.1)\n",
    "toolbox.register(\"select\", tools.selTournament, tournsize=3)\n"
   ]
  },
  {
   "cell_type": "markdown",
   "metadata": {},
   "source": [
    "Na závěr pustíme celou eveluci a můžeme sledovat, jak se nám hledání minima daří, nebo nedaří."
   ]
  },
  {
   "cell_type": "code",
   "execution_count": 15,
   "metadata": {},
   "outputs": [
    {
     "name": "stdout",
     "output_type": "stream",
     "text": [
      "gen\tnevals\tavg    \tstd    \tmin    \tmax    \n",
      "0  \t300   \t73.9759\t20.5654\t20.9297\t130.983\n",
      "1  \t242   \t55.1705\t15.602 \t12.8896\t97.8669\n",
      "2  \t244   \t47.6299\t15.7486\t3.74503\t86.3147\n",
      "3  \t264   \t47.0937\t15.6682\t9.10396\t103.76 \n",
      "4  \t273   \t43.2259\t15.631 \t7.71239\t95.8852\n",
      "5  \t244   \t38.1175\t13.3706\t7.71239\t80.4306\n",
      "6  \t246   \t35.9295\t13.5251\t7.71239\t85.0828\n",
      "7  \t246   \t30.6115\t13.1693\t5.75749\t75.5991\n",
      "8  \t243   \t26.6818\t14.7208\t4.84146\t79.1983\n",
      "9  \t249   \t20.0725\t11.2196\t3.03792\t60.1535\n",
      "10 \t251   \t13.2016\t9.5646 \t1.97549\t69.1609\n",
      "11 \t262   \t7.98471\t8.31464\t1.43307\t64.5724\n",
      "12 \t255   \t4.98101\t5.75689\t1.4704 \t42.9563\n",
      "13 \t256   \t3.42959\t4.78413\t1.36178\t34.3618\n",
      "14 \t250   \t2.7457 \t4.72591\t1.3537 \t45.8111\n",
      "15 \t246   \t3.25585\t6.8319 \t0.786146\t50.0242\n",
      "16 \t250   \t2.56317\t5.11662\t0.786146\t35.246 \n",
      "17 \t260   \t2.67799\t5.10059\t0.786146\t34.4839\n",
      "18 \t257   \t2.65733\t5.13147\t0.786146\t34.8852\n",
      "19 \t266   \t2.70637\t6.2079 \t0.786146\t60.72  \n",
      "20 \t270   \t3.10583\t6.64489\t1.1803  \t51.5913\n",
      "21 \t251   \t2.59515\t5.53536\t1.17793 \t40.4722\n",
      "22 \t253   \t2.95037\t7.59564\t1.17793 \t65.4705\n",
      "23 \t243   \t2.2048 \t4.8502 \t1.17793 \t38.9832\n",
      "24 \t262   \t2.49466\t6.38275\t1.17861 \t58.131 \n",
      "25 \t256   \t3.22682\t8.13685\t1.17877 \t84.4006\n",
      "26 \t242   \t2.68543\t5.96931\t1.17883 \t41.1144\n",
      "27 \t261   \t2.37678\t5.85842\t1.17883 \t50.1748\n",
      "28 \t229   \t2.6922 \t5.63589\t1.17884 \t37.7427\n",
      "29 \t248   \t2.1256 \t4.39475\t1.17884 \t33.1618\n",
      "30 \t246   \t1.86021\t3.36193\t1.17884 \t24.2622\n",
      "31 \t254   \t2.79539\t6.25194\t1.17884 \t41.273 \n",
      "32 \t245   \t2.62155\t6.50393\t1.17884 \t56.7247\n",
      "33 \t258   \t2.74335\t7.36318\t1.17884 \t76.3417\n",
      "34 \t259   \t2.38828\t5.62293\t1.17884 \t39.772 \n",
      "35 \t250   \t2.53529\t5.66051\t1.17884 \t40.6725\n",
      "36 \t246   \t2.51355\t5.66544\t1.17884 \t61.6699\n",
      "37 \t254   \t2.52994\t5.72871\t1.17884 \t38.6809\n",
      "38 \t240   \t2.24946\t5.77585\t1.17884 \t64.7589\n",
      "39 \t239   \t3.22206\t8.14777\t1.17884 \t56.6617\n",
      "40 \t259   \t2.9182 \t7.44318\t1.17884 \t61.4209\n",
      "41 \t260   \t2.34011\t4.86816\t0.285706\t37.6692\n",
      "42 \t259   \t2.97816\t6.63089\t1.17884 \t55.032 \n",
      "43 \t249   \t2.96667\t7.32593\t1.17884 \t57.9176\n",
      "44 \t246   \t2.25527\t6.25136\t1.17884 \t86.377 \n",
      "45 \t241   \t1.963  \t4.28901\t1.17884 \t41.5214\n",
      "46 \t253   \t2.67392\t6.26123\t1.17884 \t53.8324\n",
      "47 \t264   \t2.37207\t6.27776\t1.17884 \t73.2444\n",
      "48 \t271   \t3.25979\t7.64916\t1.06616 \t69.7697\n",
      "49 \t249   \t2.51576\t5.46168\t1.06616 \t42.5137\n",
      "50 \t253   \t3.15248\t7.14465\t1.06616 \t62.8451\n",
      "51 \t240   \t3.04093\t6.3515 \t1.06616 \t50.9443\n",
      "52 \t255   \t3.19461\t6.40998\t1.06616 \t44.4937\n",
      "53 \t244   \t2.91614\t6.80626\t1.06616 \t41.4818\n",
      "54 \t253   \t2.86069\t7.1794 \t1.05368 \t81.7715\n",
      "55 \t243   \t2.24438\t4.41393\t1.05368 \t41.1994\n",
      "56 \t253   \t3.33077\t8.11818\t1.17884 \t84.0123\n",
      "57 \t244   \t2.62102\t5.55869\t1.17884 \t41.3325\n",
      "58 \t244   \t2.24002\t4.76056\t1.17884 \t39.7118\n",
      "59 \t258   \t3.58505\t9.60002\t1.17884 \t82.5005\n",
      "60 \t251   \t2.40268\t6.43745\t0.737315\t60.1215\n",
      "61 \t248   \t2.24797\t4.97699\t1.17884 \t41.1618\n",
      "62 \t271   \t2.56896\t6.0981 \t1.17884 \t59.7089\n",
      "63 \t255   \t2.35156\t5.67852\t0.351586\t57.2939\n",
      "64 \t248   \t2.40445\t4.77516\t0.670307\t33.4717\n",
      "65 \t242   \t2.39396\t5.08544\t1.17884 \t40.4463\n",
      "66 \t267   \t2.9508 \t6.72621\t1.17884 \t48.0624\n",
      "67 \t264   \t2.74895\t6.6319 \t1.17884 \t58.7743\n",
      "68 \t248   \t2.94173\t6.86887\t1.17884 \t55.8448\n",
      "69 \t239   \t2.7135 \t6.52643\t1.17884 \t45.0931\n",
      "70 \t250   \t2.52006\t5.90129\t1.17884 \t45.0824\n",
      "71 \t245   \t2.14001\t5.2214 \t0.536424\t58.1488\n",
      "72 \t249   \t2.68427\t6.15249\t1.17884 \t43.7065\n",
      "73 \t260   \t2.31552\t5.16613\t1.17884 \t40.8973\n",
      "74 \t246   \t2.98056\t6.54698\t1.17884 \t48.739 \n",
      "75 \t243   \t2.73247\t5.75758\t1.17884 \t33.1038\n",
      "76 \t265   \t2.94628\t7.28892\t1.17884 \t50.4367\n",
      "77 \t250   \t2.27997\t4.89605\t1.17884 \t32.2141\n",
      "78 \t243   \t3.06379\t7.948  \t1.17884 \t58.9623\n",
      "79 \t250   \t2.5203 \t5.83569\t1.17884 \t42.1104\n",
      "80 \t250   \t2.67011\t5.66488\t1.03804 \t40.6342\n",
      "81 \t254   \t3.03418\t7.39997\t1.05619 \t61.6175\n",
      "82 \t249   \t2.58017\t5.98429\t1.08015 \t44.6127\n",
      "83 \t252   \t2.44632\t5.58784\t1.08015 \t42.2307\n",
      "84 \t253   \t2.80249\t6.50743\t0.208397\t58.0095\n",
      "85 \t240   \t3.2716 \t7.85436\t0.208397\t45.9215\n",
      "86 \t253   \t3.12733\t7.27854\t0.208397\t51.07  \n",
      "87 \t245   \t3.20908\t7.00512\t1.03944 \t62.7226\n",
      "88 \t246   \t3.06474\t7.5437 \t1.03944 \t51.895 \n",
      "89 \t250   \t2.25039\t4.96332\t1.03944 \t32.6148\n",
      "90 \t248   \t2.65277\t6.96035\t1.03944 \t78.9155\n",
      "91 \t238   \t1.97077\t4.72844\t1.04227 \t40.6262\n",
      "92 \t251   \t2.66953\t5.98038\t1.04323 \t44.2131\n",
      "93 \t259   \t2.69452\t6.96763\t1.04519 \t53.5802\n",
      "94 \t250   \t3.08179\t7.91916\t1.04604 \t68.4816\n",
      "95 \t259   \t2.8776 \t6.71062\t1.04604 \t48.3753\n",
      "96 \t253   \t2.41212\t5.9101 \t0.919148\t51.2277\n",
      "97 \t261   \t2.35063\t5.79813\t0.919148\t41.4024\n",
      "98 \t254   \t2.21062\t5.12894\t1.04604 \t33.2565\n",
      "99 \t253   \t2.63358\t6.73659\t1.04604 \t53.5634\n",
      "100\t248   \t2.29616\t5.19151\t1.04623 \t42.4358\n"
     ]
    }
   ],
   "source": [
    "pop = toolbox.population(n=300)\n",
    "hof = tools.HallOfFame(1)\n",
    "stats = tools.Statistics(lambda ind: ind.fitness.values)\n",
    "stats.register(\"avg\", np.mean)\n",
    "stats.register(\"std\", np.std)\n",
    "stats.register(\"min\", np.min)\n",
    "stats.register(\"max\", np.max)\n",
    "\n",
    "pop, log = algorithms.eaSimple(pop, toolbox, cxpb=0.8, mutpb=0.2, ngen=100,\n",
    "                               stats=stats, halloffame=hof, verbose=True)"
   ]
  },
  {
   "cell_type": "markdown",
   "metadata": {},
   "source": [
    "## Domácí úkol - Batoh\n",
    "\n",
    "Za domácí úkol budete mít vyřešit pomocí evolučního algoritmu problém batohu. Ten spočívá v tom, že máme batoh kapacity K a N předmětů, každý s cenou c<sub>i</sub> a objemem v<sub>i</sub> a chceme vybrat takové věci, abychom maximalizovali zisk a zároveň abychom nepřekročili kapacitu batohu. \n",
    "\n",
    "Vstupní data máte ve složce *domaci_ukol_data*. Obsahuje čtyři soubory s daty a dva s výsledky. Na první řádce souboru s daty je vždy počet předmětů a kapacita batohu oddělené mezerou, každý další následující řádek obsahuje cenu a objem předmětu taktéž oddělené mezerou. První dva soubory slouží pro snažší odladění evolučního algoritmu a obsahují i k sobě extra soubory s optimálním řešením. Na dalších dvou máte za úkol algoritmus pustit a výsledky na nich naměřené mi poslat. \n",
    "\n",
    "Napište tedy nějaký svůj evoluční algoritmus, který bude řešit problém batohu a pusťte ho na vstupních datech. Svůj kód, popis evolučního algoritmu (zvolené evoluční operátory, kódování jedince, atd.) a rozbor výsledků i s jejich odůvodněním mi pošlete emailem do stanoveného deadline."
   ]
  },
  {
   "cell_type": "code",
   "execution_count": null,
   "metadata": {},
   "outputs": [],
   "source": []
  }
 ],
 "metadata": {
  "kernelspec": {
   "display_name": "Python 3",
   "language": "python",
   "name": "python3"
  },
  "language_info": {
   "codemirror_mode": {
    "name": "ipython",
    "version": 3
   },
   "file_extension": ".py",
   "mimetype": "text/x-python",
   "name": "python",
   "nbconvert_exporter": "python",
   "pygments_lexer": "ipython3",
   "version": "3.8.5"
  }
 },
 "nbformat": 4,
 "nbformat_minor": 2
}
