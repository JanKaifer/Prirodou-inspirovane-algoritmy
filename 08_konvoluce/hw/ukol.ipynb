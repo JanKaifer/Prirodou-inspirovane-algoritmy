{
 "cells": [
  {
   "cell_type": "code",
   "execution_count": 3,
   "metadata": {},
   "outputs": [
    {
     "name": "stdout",
     "output_type": "stream",
     "text": [
      "Collecting tensorflow\n",
      "  Using cached tensorflow-2.8.0-cp39-cp39-manylinux2010_x86_64.whl (497.6 MB)\n",
      "Collecting numpy\n",
      "  Using cached numpy-1.22.3-cp39-cp39-manylinux_2_17_x86_64.manylinux2014_x86_64.whl (16.8 MB)\n",
      "Requirement already satisfied: bing-image-downloader in ./.venv/lib/python3.9/site-packages (1.1.2)\n",
      "Requirement already satisfied: six>=1.12.0 in ./.venv/lib/python3.9/site-packages (from tensorflow) (1.16.0)\n",
      "Collecting tensorflow-io-gcs-filesystem>=0.23.1\n",
      "  Downloading tensorflow_io_gcs_filesystem-0.25.0-cp39-cp39-manylinux_2_12_x86_64.manylinux2010_x86_64.whl (2.1 MB)\n",
      "\u001b[K     |████████████████████████████████| 2.1 MB 1.1 MB/s eta 0:00:01\n",
      "\u001b[?25hCollecting protobuf>=3.9.2\n",
      "  Downloading protobuf-3.20.1-cp39-cp39-manylinux_2_5_x86_64.manylinux1_x86_64.whl (1.0 MB)\n",
      "\u001b[K     |████████████████████████████████| 1.0 MB 4.0 MB/s eta 0:00:01\n",
      "\u001b[?25hCollecting absl-py>=0.4.0\n",
      "  Using cached absl_py-1.0.0-py3-none-any.whl (126 kB)\n",
      "Collecting tensorboard<2.9,>=2.8\n",
      "  Using cached tensorboard-2.8.0-py3-none-any.whl (5.8 MB)\n",
      "Collecting astunparse>=1.6.0\n",
      "  Using cached astunparse-1.6.3-py2.py3-none-any.whl (12 kB)\n",
      "Collecting opt-einsum>=2.3.2\n",
      "  Using cached opt_einsum-3.3.0-py3-none-any.whl (65 kB)\n",
      "Collecting wrapt>=1.11.0\n",
      "  Using cached wrapt-1.14.0-cp39-cp39-manylinux_2_5_x86_64.manylinux1_x86_64.manylinux_2_17_x86_64.manylinux2014_x86_64.whl (77 kB)\n",
      "Collecting gast>=0.2.1\n",
      "  Using cached gast-0.5.3-py3-none-any.whl (19 kB)\n",
      "Collecting tf-estimator-nightly==2.8.0.dev2021122109\n",
      "  Using cached tf_estimator_nightly-2.8.0.dev2021122109-py2.py3-none-any.whl (462 kB)\n",
      "Collecting flatbuffers>=1.12\n",
      "  Using cached flatbuffers-2.0-py2.py3-none-any.whl (26 kB)\n",
      "Collecting keras<2.9,>=2.8.0rc0\n",
      "  Using cached keras-2.8.0-py2.py3-none-any.whl (1.4 MB)\n",
      "Collecting typing-extensions>=3.6.6\n",
      "  Downloading typing_extensions-4.2.0-py3-none-any.whl (24 kB)\n",
      "Collecting libclang>=9.0.1\n",
      "  Downloading libclang-14.0.1-py2.py3-none-manylinux1_x86_64.whl (14.5 MB)\n",
      "\u001b[K     |████████████████████████████████| 14.5 MB 12.9 MB/s eta 0:00:01\n",
      "\u001b[?25hCollecting termcolor>=1.1.0\n",
      "  Using cached termcolor-1.1.0.tar.gz (3.9 kB)\n",
      "Collecting google-pasta>=0.1.1\n",
      "  Using cached google_pasta-0.2.0-py3-none-any.whl (57 kB)\n",
      "Requirement already satisfied: setuptools in ./.venv/lib/python3.9/site-packages (from tensorflow) (44.1.1)\n",
      "Collecting grpcio<2.0,>=1.24.3\n",
      "  Using cached grpcio-1.44.0-cp39-cp39-manylinux_2_17_x86_64.manylinux2014_x86_64.whl (4.3 MB)\n",
      "Collecting h5py>=2.9.0\n",
      "  Using cached h5py-3.6.0-cp39-cp39-manylinux_2_12_x86_64.manylinux2010_x86_64.whl (4.5 MB)\n",
      "Collecting keras-preprocessing>=1.1.1\n",
      "  Using cached Keras_Preprocessing-1.1.2-py2.py3-none-any.whl (42 kB)\n",
      "Collecting wheel<1.0,>=0.23.0\n",
      "  Using cached wheel-0.37.1-py2.py3-none-any.whl (35 kB)\n",
      "Collecting markdown>=2.6.8\n",
      "  Using cached Markdown-3.3.6-py3-none-any.whl (97 kB)\n",
      "Collecting werkzeug>=0.11.15\n",
      "  Using cached Werkzeug-2.1.1-py3-none-any.whl (224 kB)\n",
      "Collecting google-auth<3,>=1.6.3\n",
      "  Downloading google_auth-2.6.6-py2.py3-none-any.whl (156 kB)\n",
      "\u001b[K     |████████████████████████████████| 156 kB 18.0 MB/s eta 0:00:01\n",
      "\u001b[?25hCollecting tensorboard-data-server<0.7.0,>=0.6.0\n",
      "  Using cached tensorboard_data_server-0.6.1-py3-none-manylinux2010_x86_64.whl (4.9 MB)\n",
      "Collecting tensorboard-plugin-wit>=1.6.0\n",
      "  Using cached tensorboard_plugin_wit-1.8.1-py3-none-any.whl (781 kB)\n",
      "Collecting google-auth-oauthlib<0.5,>=0.4.1\n",
      "  Using cached google_auth_oauthlib-0.4.6-py2.py3-none-any.whl (18 kB)\n",
      "Collecting requests<3,>=2.21.0\n",
      "  Using cached requests-2.27.1-py2.py3-none-any.whl (63 kB)\n",
      "Collecting rsa<5,>=3.1.4\n",
      "  Using cached rsa-4.8-py3-none-any.whl (39 kB)\n",
      "Collecting pyasn1-modules>=0.2.1\n",
      "  Using cached pyasn1_modules-0.2.8-py2.py3-none-any.whl (155 kB)\n",
      "Collecting cachetools<6.0,>=2.0.0\n",
      "  Using cached cachetools-5.0.0-py3-none-any.whl (9.1 kB)\n",
      "Collecting requests-oauthlib>=0.7.0\n",
      "  Using cached requests_oauthlib-1.3.1-py2.py3-none-any.whl (23 kB)\n",
      "Collecting importlib-metadata>=4.4\n",
      "  Using cached importlib_metadata-4.11.3-py3-none-any.whl (18 kB)\n",
      "Collecting zipp>=0.5\n",
      "  Using cached zipp-3.8.0-py3-none-any.whl (5.4 kB)\n",
      "Collecting pyasn1<0.5.0,>=0.4.6\n",
      "  Using cached pyasn1-0.4.8-py2.py3-none-any.whl (77 kB)\n",
      "Collecting certifi>=2017.4.17\n",
      "  Using cached certifi-2021.10.8-py2.py3-none-any.whl (149 kB)\n",
      "Collecting urllib3<1.27,>=1.21.1\n",
      "  Using cached urllib3-1.26.9-py2.py3-none-any.whl (138 kB)\n",
      "Collecting charset-normalizer~=2.0.0\n",
      "  Using cached charset_normalizer-2.0.12-py3-none-any.whl (39 kB)\n",
      "Collecting idna<4,>=2.5\n",
      "  Using cached idna-3.3-py3-none-any.whl (61 kB)\n",
      "Collecting oauthlib>=3.0.0\n",
      "  Using cached oauthlib-3.2.0-py3-none-any.whl (151 kB)\n",
      "Using legacy 'setup.py install' for termcolor, since package 'wheel' is not installed.\n",
      "Installing collected packages: urllib3, pyasn1, idna, charset-normalizer, certifi, zipp, rsa, requests, pyasn1-modules, oauthlib, cachetools, requests-oauthlib, importlib-metadata, google-auth, wheel, werkzeug, tensorboard-plugin-wit, tensorboard-data-server, protobuf, numpy, markdown, grpcio, google-auth-oauthlib, absl-py, wrapt, typing-extensions, tf-estimator-nightly, termcolor, tensorflow-io-gcs-filesystem, tensorboard, opt-einsum, libclang, keras-preprocessing, keras, h5py, google-pasta, gast, flatbuffers, astunparse, tensorflow\n",
      "    Running setup.py install for termcolor ... \u001b[?25ldone\n",
      "\u001b[?25hSuccessfully installed absl-py-1.0.0 astunparse-1.6.3 cachetools-5.0.0 certifi-2021.10.8 charset-normalizer-2.0.12 flatbuffers-2.0 gast-0.5.3 google-auth-2.6.6 google-auth-oauthlib-0.4.6 google-pasta-0.2.0 grpcio-1.44.0 h5py-3.6.0 idna-3.3 importlib-metadata-4.11.3 keras-2.8.0 keras-preprocessing-1.1.2 libclang-14.0.1 markdown-3.3.6 numpy-1.22.3 oauthlib-3.2.0 opt-einsum-3.3.0 protobuf-3.20.1 pyasn1-0.4.8 pyasn1-modules-0.2.8 requests-2.27.1 requests-oauthlib-1.3.1 rsa-4.8 tensorboard-2.8.0 tensorboard-data-server-0.6.1 tensorboard-plugin-wit-1.8.1 tensorflow-2.8.0 tensorflow-io-gcs-filesystem-0.25.0 termcolor-1.1.0 tf-estimator-nightly-2.8.0.dev2021122109 typing-extensions-4.2.0 urllib3-1.26.9 werkzeug-2.1.1 wheel-0.37.1 wrapt-1.14.0 zipp-3.8.0\n"
     ]
    }
   ],
   "source": [
    "!pip install tensorflow numpy bing-image-downloader"
   ]
  },
  {
   "cell_type": "code",
   "execution_count": 4,
   "metadata": {},
   "outputs": [
    {
     "name": "stderr",
     "output_type": "stream",
     "text": [
      "2022-04-25 18:36:44.029526: W tensorflow/stream_executor/platform/default/dso_loader.cc:64] Could not load dynamic library 'libcudart.so.11.0'; dlerror: libcudart.so.11.0: cannot open shared object file: No such file or directory\n",
      "2022-04-25 18:36:44.029542: I tensorflow/stream_executor/cuda/cudart_stub.cc:29] Ignore above cudart dlerror if you do not have a GPU set up on your machine.\n"
     ]
    }
   ],
   "source": [
    "import tensorflow as tf\n",
    "import numpy as np\n",
    "from bing_image_downloader import downloader"
   ]
  },
  {
   "cell_type": "code",
   "execution_count": 24,
   "metadata": {},
   "outputs": [],
   "source": [
    "CLASSES = [\n",
    "\t'macbook',\n",
    "\t'toilet',\n",
    "\t'equation',\n",
    "\t'programming',\n",
    "\t'keyboard',\n",
    "\t'phone',\n",
    "]\n",
    "IMGS_PER_CLASS = 20"
   ]
  },
  {
   "cell_type": "code",
   "execution_count": 25,
   "metadata": {},
   "outputs": [
    {
     "name": "stdout",
     "output_type": "stream",
     "text": [
      "[%] Downloading Images to /home/jankaifer/Projects/acap-ocr/tensorflow/macbook/macbook\n",
      "[!] Issue getting: https://appleinclusion.com/wp-content/uploads/2019/05/howard-lawrence-b-1141813-unsplash-1.jpg\n",
      "[!] Error:: HTTP Error 404: Not Found\n",
      "[!] Issue getting: https://external-preview.redd.it/5BCTe6GcIWnfl0RT6W9jsNIOeRoQ4K36oc24vpmzAeY.jpg?auto=webp&amp;s=2c9d35b3a5b39c78d0699d35c48e34a6214d2cb3\n",
      "[!] Error:: HTTP Error 403: Forbidden\n",
      "[!] Issue getting: https://preview.redd.it/b0oy5ewj05e51.jpg?auto=webp&amp;s=be3cf283476f60f65b4b1d058c0441ddc2c93a21\n",
      "[!] Error:: HTTP Error 403: Forbidden\n"
     ]
    },
    {
     "ename": "KeyboardInterrupt",
     "evalue": "",
     "output_type": "error",
     "traceback": [
      "\u001b[0;31m---------------------------------------------------------------------------\u001b[0m",
      "\u001b[0;31mKeyboardInterrupt\u001b[0m                         Traceback (most recent call last)",
      "\u001b[1;32m/Users/jankaifer/Projects/school/Prirodou-inspirovane-algoritmy/08_konvoluce/hw/ukol.ipynb Cell 4'\u001b[0m in \u001b[0;36m<cell line: 2>\u001b[0;34m()\u001b[0m\n\u001b[1;32m      <a href='vscode-notebook-cell:/Users/jankaifer/Projects/school/Prirodou-inspirovane-algoritmy/08_konvoluce/hw/ukol.ipynb#ch0000002?line=1'>2</a>\u001b[0m \u001b[39mfor\u001b[39;00m class_name \u001b[39min\u001b[39;00m CLASSES:\n\u001b[1;32m      <a href='vscode-notebook-cell:/Users/jankaifer/Projects/school/Prirodou-inspirovane-algoritmy/08_konvoluce/hw/ukol.ipynb#ch0000002?line=2'>3</a>\u001b[0m \tresponse \u001b[39m=\u001b[39m google_images_download\u001b[39m.\u001b[39mgoogleimagesdownload()\n\u001b[0;32m----> <a href='vscode-notebook-cell:/Users/jankaifer/Projects/school/Prirodou-inspirovane-algoritmy/08_konvoluce/hw/ukol.ipynb#ch0000002?line=3'>4</a>\u001b[0m \tdownloader\u001b[39m.\u001b[39;49mdownload(\n\u001b[1;32m      <a href='vscode-notebook-cell:/Users/jankaifer/Projects/school/Prirodou-inspirovane-algoritmy/08_konvoluce/hw/ukol.ipynb#ch0000002?line=4'>5</a>\u001b[0m \t\tclass_name,\n\u001b[1;32m      <a href='vscode-notebook-cell:/Users/jankaifer/Projects/school/Prirodou-inspirovane-algoritmy/08_konvoluce/hw/ukol.ipynb#ch0000002?line=5'>6</a>\u001b[0m \t\tlimit\u001b[39m=\u001b[39;49mIMGS_PER_CLASS,\n\u001b[1;32m      <a href='vscode-notebook-cell:/Users/jankaifer/Projects/school/Prirodou-inspirovane-algoritmy/08_konvoluce/hw/ukol.ipynb#ch0000002?line=6'>7</a>\u001b[0m \t\toutput_dir\u001b[39m=\u001b[39;49mclass_name,\n\u001b[1;32m      <a href='vscode-notebook-cell:/Users/jankaifer/Projects/school/Prirodou-inspirovane-algoritmy/08_konvoluce/hw/ukol.ipynb#ch0000002?line=7'>8</a>\u001b[0m \t\tadult_filter_off\u001b[39m=\u001b[39;49m\u001b[39mFalse\u001b[39;49;00m,\n\u001b[1;32m      <a href='vscode-notebook-cell:/Users/jankaifer/Projects/school/Prirodou-inspirovane-algoritmy/08_konvoluce/hw/ukol.ipynb#ch0000002?line=8'>9</a>\u001b[0m \t\tforce_replace\u001b[39m=\u001b[39;49m\u001b[39mFalse\u001b[39;49;00m,\n\u001b[1;32m     <a href='vscode-notebook-cell:/Users/jankaifer/Projects/school/Prirodou-inspirovane-algoritmy/08_konvoluce/hw/ukol.ipynb#ch0000002?line=9'>10</a>\u001b[0m \t\ttimeout\u001b[39m=\u001b[39;49m\u001b[39m60\u001b[39;49m,\n\u001b[1;32m     <a href='vscode-notebook-cell:/Users/jankaifer/Projects/school/Prirodou-inspirovane-algoritmy/08_konvoluce/hw/ukol.ipynb#ch0000002?line=10'>11</a>\u001b[0m \t\tverbose\u001b[39m=\u001b[39;49m\u001b[39mFalse\u001b[39;49;00m\n\u001b[1;32m     <a href='vscode-notebook-cell:/Users/jankaifer/Projects/school/Prirodou-inspirovane-algoritmy/08_konvoluce/hw/ukol.ipynb#ch0000002?line=11'>12</a>\u001b[0m \t)\n",
      "File \u001b[0;32m~/Projects/acap-ocr/tensorflow/.venv/lib/python3.9/site-packages/bing_image_downloader/downloader.py:38\u001b[0m, in \u001b[0;36mdownload\u001b[0;34m(query, limit, output_dir, adult_filter_off, force_replace, timeout, filter, verbose)\u001b[0m\n\u001b[1;32m     <a href='file:///Users/jankaifer/Projects/acap-ocr/tensorflow/.venv/lib/python3.9/site-packages/bing_image_downloader/downloader.py?line=35'>36</a>\u001b[0m \u001b[39mprint\u001b[39m(\u001b[39m\"\u001b[39m\u001b[39m[\u001b[39m\u001b[39m%\u001b[39m\u001b[39m] Downloading Images to \u001b[39m\u001b[39m{}\u001b[39;00m\u001b[39m\"\u001b[39m\u001b[39m.\u001b[39mformat(\u001b[39mstr\u001b[39m(image_dir\u001b[39m.\u001b[39mabsolute())))\n\u001b[1;32m     <a href='file:///Users/jankaifer/Projects/acap-ocr/tensorflow/.venv/lib/python3.9/site-packages/bing_image_downloader/downloader.py?line=36'>37</a>\u001b[0m bing \u001b[39m=\u001b[39m Bing(query, limit, image_dir, adult, timeout, \u001b[39mfilter\u001b[39m, verbose)\n\u001b[0;32m---> <a href='file:///Users/jankaifer/Projects/acap-ocr/tensorflow/.venv/lib/python3.9/site-packages/bing_image_downloader/downloader.py?line=37'>38</a>\u001b[0m bing\u001b[39m.\u001b[39;49mrun()\n",
      "File \u001b[0;32m~/Projects/acap-ocr/tensorflow/.venv/lib/python3.9/site-packages/bing_image_downloader/bing.py:112\u001b[0m, in \u001b[0;36mBing.run\u001b[0;34m(self)\u001b[0m\n\u001b[1;32m    <a href='file:///Users/jankaifer/Projects/acap-ocr/tensorflow/.venv/lib/python3.9/site-packages/bing_image_downloader/bing.py?line=109'>110</a>\u001b[0m         \u001b[39mif\u001b[39;00m \u001b[39mself\u001b[39m\u001b[39m.\u001b[39mdownload_count \u001b[39m<\u001b[39m \u001b[39mself\u001b[39m\u001b[39m.\u001b[39mlimit \u001b[39mand\u001b[39;00m link \u001b[39mnot\u001b[39;00m \u001b[39min\u001b[39;00m \u001b[39mself\u001b[39m\u001b[39m.\u001b[39mseen:\n\u001b[1;32m    <a href='file:///Users/jankaifer/Projects/acap-ocr/tensorflow/.venv/lib/python3.9/site-packages/bing_image_downloader/bing.py?line=110'>111</a>\u001b[0m             \u001b[39mself\u001b[39m\u001b[39m.\u001b[39mseen\u001b[39m.\u001b[39madd(link)\n\u001b[0;32m--> <a href='file:///Users/jankaifer/Projects/acap-ocr/tensorflow/.venv/lib/python3.9/site-packages/bing_image_downloader/bing.py?line=111'>112</a>\u001b[0m             \u001b[39mself\u001b[39;49m\u001b[39m.\u001b[39;49mdownload_image(link)\n\u001b[1;32m    <a href='file:///Users/jankaifer/Projects/acap-ocr/tensorflow/.venv/lib/python3.9/site-packages/bing_image_downloader/bing.py?line=113'>114</a>\u001b[0m     \u001b[39mself\u001b[39m\u001b[39m.\u001b[39mpage_counter \u001b[39m+\u001b[39m\u001b[39m=\u001b[39m \u001b[39m1\u001b[39m\n\u001b[1;32m    <a href='file:///Users/jankaifer/Projects/acap-ocr/tensorflow/.venv/lib/python3.9/site-packages/bing_image_downloader/bing.py?line=114'>115</a>\u001b[0m \u001b[39mprint\u001b[39m(\u001b[39m\"\u001b[39m\u001b[39m\\n\u001b[39;00m\u001b[39m\\n\u001b[39;00m\u001b[39m[\u001b[39m\u001b[39m%\u001b[39m\u001b[39m] Done. Downloaded \u001b[39m\u001b[39m{}\u001b[39;00m\u001b[39m images.\u001b[39m\u001b[39m\"\u001b[39m\u001b[39m.\u001b[39mformat(\u001b[39mself\u001b[39m\u001b[39m.\u001b[39mdownload_count))\n",
      "File \u001b[0;32m~/Projects/acap-ocr/tensorflow/.venv/lib/python3.9/site-packages/bing_image_downloader/bing.py:80\u001b[0m, in \u001b[0;36mBing.download_image\u001b[0;34m(self, link)\u001b[0m\n\u001b[1;32m     <a href='file:///Users/jankaifer/Projects/acap-ocr/tensorflow/.venv/lib/python3.9/site-packages/bing_image_downloader/bing.py?line=75'>76</a>\u001b[0m \u001b[39mif\u001b[39;00m \u001b[39mself\u001b[39m\u001b[39m.\u001b[39mverbose:\n\u001b[1;32m     <a href='file:///Users/jankaifer/Projects/acap-ocr/tensorflow/.venv/lib/python3.9/site-packages/bing_image_downloader/bing.py?line=76'>77</a>\u001b[0m     \u001b[39m# Download the image\u001b[39;00m\n\u001b[1;32m     <a href='file:///Users/jankaifer/Projects/acap-ocr/tensorflow/.venv/lib/python3.9/site-packages/bing_image_downloader/bing.py?line=77'>78</a>\u001b[0m     \u001b[39mprint\u001b[39m(\u001b[39m\"\u001b[39m\u001b[39m[\u001b[39m\u001b[39m%\u001b[39m\u001b[39m] Downloading Image #\u001b[39m\u001b[39m{}\u001b[39;00m\u001b[39m from \u001b[39m\u001b[39m{}\u001b[39;00m\u001b[39m\"\u001b[39m\u001b[39m.\u001b[39mformat(\u001b[39mself\u001b[39m\u001b[39m.\u001b[39mdownload_count, link))\n\u001b[0;32m---> <a href='file:///Users/jankaifer/Projects/acap-ocr/tensorflow/.venv/lib/python3.9/site-packages/bing_image_downloader/bing.py?line=79'>80</a>\u001b[0m \u001b[39mself\u001b[39;49m\u001b[39m.\u001b[39;49msave_image(link, \u001b[39mself\u001b[39;49m\u001b[39m.\u001b[39;49moutput_dir\u001b[39m.\u001b[39;49mjoinpath(\u001b[39m\"\u001b[39;49m\u001b[39mImage_\u001b[39;49m\u001b[39m{}\u001b[39;49;00m\u001b[39m.\u001b[39;49m\u001b[39m{}\u001b[39;49;00m\u001b[39m\"\u001b[39;49m\u001b[39m.\u001b[39;49mformat(\n\u001b[1;32m     <a href='file:///Users/jankaifer/Projects/acap-ocr/tensorflow/.venv/lib/python3.9/site-packages/bing_image_downloader/bing.py?line=80'>81</a>\u001b[0m     \u001b[39mstr\u001b[39;49m(\u001b[39mself\u001b[39;49m\u001b[39m.\u001b[39;49mdownload_count), file_type)))\n\u001b[1;32m     <a href='file:///Users/jankaifer/Projects/acap-ocr/tensorflow/.venv/lib/python3.9/site-packages/bing_image_downloader/bing.py?line=81'>82</a>\u001b[0m \u001b[39mif\u001b[39;00m \u001b[39mself\u001b[39m\u001b[39m.\u001b[39mverbose:\n\u001b[1;32m     <a href='file:///Users/jankaifer/Projects/acap-ocr/tensorflow/.venv/lib/python3.9/site-packages/bing_image_downloader/bing.py?line=82'>83</a>\u001b[0m     \u001b[39mprint\u001b[39m(\u001b[39m\"\u001b[39m\u001b[39m[\u001b[39m\u001b[39m%\u001b[39m\u001b[39m] File Downloaded !\u001b[39m\u001b[39m\\n\u001b[39;00m\u001b[39m\"\u001b[39m)\n",
      "File \u001b[0;32m~/Projects/acap-ocr/tensorflow/.venv/lib/python3.9/site-packages/bing_image_downloader/bing.py:58\u001b[0m, in \u001b[0;36mBing.save_image\u001b[0;34m(self, link, file_path)\u001b[0m\n\u001b[1;32m     <a href='file:///Users/jankaifer/Projects/acap-ocr/tensorflow/.venv/lib/python3.9/site-packages/bing_image_downloader/bing.py?line=55'>56</a>\u001b[0m \u001b[39mdef\u001b[39;00m \u001b[39msave_image\u001b[39m(\u001b[39mself\u001b[39m, link, file_path):\n\u001b[1;32m     <a href='file:///Users/jankaifer/Projects/acap-ocr/tensorflow/.venv/lib/python3.9/site-packages/bing_image_downloader/bing.py?line=56'>57</a>\u001b[0m     request \u001b[39m=\u001b[39m urllib\u001b[39m.\u001b[39mrequest\u001b[39m.\u001b[39mRequest(link, \u001b[39mNone\u001b[39;00m, \u001b[39mself\u001b[39m\u001b[39m.\u001b[39mheaders)\n\u001b[0;32m---> <a href='file:///Users/jankaifer/Projects/acap-ocr/tensorflow/.venv/lib/python3.9/site-packages/bing_image_downloader/bing.py?line=57'>58</a>\u001b[0m     image \u001b[39m=\u001b[39m urllib\u001b[39m.\u001b[39;49mrequest\u001b[39m.\u001b[39;49murlopen(request, timeout\u001b[39m=\u001b[39;49m\u001b[39mself\u001b[39;49m\u001b[39m.\u001b[39;49mtimeout)\u001b[39m.\u001b[39;49mread()\n\u001b[1;32m     <a href='file:///Users/jankaifer/Projects/acap-ocr/tensorflow/.venv/lib/python3.9/site-packages/bing_image_downloader/bing.py?line=58'>59</a>\u001b[0m     \u001b[39mif\u001b[39;00m \u001b[39mnot\u001b[39;00m imghdr\u001b[39m.\u001b[39mwhat(\u001b[39mNone\u001b[39;00m, image):\n\u001b[1;32m     <a href='file:///Users/jankaifer/Projects/acap-ocr/tensorflow/.venv/lib/python3.9/site-packages/bing_image_downloader/bing.py?line=59'>60</a>\u001b[0m         \u001b[39mprint\u001b[39m(\u001b[39m'\u001b[39m\u001b[39m[Error]Invalid image, not saving \u001b[39m\u001b[39m{}\u001b[39;00m\u001b[39m\\n\u001b[39;00m\u001b[39m'\u001b[39m\u001b[39m.\u001b[39mformat(link))\n",
      "File \u001b[0;32m/usr/lib/python3.9/http/client.py:475\u001b[0m, in \u001b[0;36mHTTPResponse.read\u001b[0;34m(self, amt)\u001b[0m\n\u001b[1;32m    <a href='file:///usr/lib/python3.9/http/client.py?line=472'>473</a>\u001b[0m \u001b[39melse\u001b[39;00m:\n\u001b[1;32m    <a href='file:///usr/lib/python3.9/http/client.py?line=473'>474</a>\u001b[0m     \u001b[39mtry\u001b[39;00m:\n\u001b[0;32m--> <a href='file:///usr/lib/python3.9/http/client.py?line=474'>475</a>\u001b[0m         s \u001b[39m=\u001b[39m \u001b[39mself\u001b[39;49m\u001b[39m.\u001b[39;49m_safe_read(\u001b[39mself\u001b[39;49m\u001b[39m.\u001b[39;49mlength)\n\u001b[1;32m    <a href='file:///usr/lib/python3.9/http/client.py?line=475'>476</a>\u001b[0m     \u001b[39mexcept\u001b[39;00m IncompleteRead:\n\u001b[1;32m    <a href='file:///usr/lib/python3.9/http/client.py?line=476'>477</a>\u001b[0m         \u001b[39mself\u001b[39m\u001b[39m.\u001b[39m_close_conn()\n",
      "File \u001b[0;32m/usr/lib/python3.9/http/client.py:625\u001b[0m, in \u001b[0;36mHTTPResponse._safe_read\u001b[0;34m(self, amt)\u001b[0m\n\u001b[1;32m    <a href='file:///usr/lib/python3.9/http/client.py?line=622'>623</a>\u001b[0m s \u001b[39m=\u001b[39m []\n\u001b[1;32m    <a href='file:///usr/lib/python3.9/http/client.py?line=623'>624</a>\u001b[0m \u001b[39mwhile\u001b[39;00m amt \u001b[39m>\u001b[39m \u001b[39m0\u001b[39m:\n\u001b[0;32m--> <a href='file:///usr/lib/python3.9/http/client.py?line=624'>625</a>\u001b[0m     chunk \u001b[39m=\u001b[39m \u001b[39mself\u001b[39;49m\u001b[39m.\u001b[39;49mfp\u001b[39m.\u001b[39;49mread(\u001b[39mmin\u001b[39;49m(amt, MAXAMOUNT))\n\u001b[1;32m    <a href='file:///usr/lib/python3.9/http/client.py?line=625'>626</a>\u001b[0m     \u001b[39mif\u001b[39;00m \u001b[39mnot\u001b[39;00m chunk:\n\u001b[1;32m    <a href='file:///usr/lib/python3.9/http/client.py?line=626'>627</a>\u001b[0m         \u001b[39mraise\u001b[39;00m IncompleteRead(\u001b[39mb\u001b[39m\u001b[39m'\u001b[39m\u001b[39m'\u001b[39m\u001b[39m.\u001b[39mjoin(s), amt)\n",
      "File \u001b[0;32m/usr/lib/python3.9/socket.py:704\u001b[0m, in \u001b[0;36mSocketIO.readinto\u001b[0;34m(self, b)\u001b[0m\n\u001b[1;32m    <a href='file:///usr/lib/python3.9/socket.py?line=701'>702</a>\u001b[0m \u001b[39mwhile\u001b[39;00m \u001b[39mTrue\u001b[39;00m:\n\u001b[1;32m    <a href='file:///usr/lib/python3.9/socket.py?line=702'>703</a>\u001b[0m     \u001b[39mtry\u001b[39;00m:\n\u001b[0;32m--> <a href='file:///usr/lib/python3.9/socket.py?line=703'>704</a>\u001b[0m         \u001b[39mreturn\u001b[39;00m \u001b[39mself\u001b[39;49m\u001b[39m.\u001b[39;49m_sock\u001b[39m.\u001b[39;49mrecv_into(b)\n\u001b[1;32m    <a href='file:///usr/lib/python3.9/socket.py?line=704'>705</a>\u001b[0m     \u001b[39mexcept\u001b[39;00m timeout:\n\u001b[1;32m    <a href='file:///usr/lib/python3.9/socket.py?line=705'>706</a>\u001b[0m         \u001b[39mself\u001b[39m\u001b[39m.\u001b[39m_timeout_occurred \u001b[39m=\u001b[39m \u001b[39mTrue\u001b[39;00m\n",
      "File \u001b[0;32m/usr/lib/python3.9/ssl.py:1241\u001b[0m, in \u001b[0;36mSSLSocket.recv_into\u001b[0;34m(self, buffer, nbytes, flags)\u001b[0m\n\u001b[1;32m   <a href='file:///usr/lib/python3.9/ssl.py?line=1236'>1237</a>\u001b[0m     \u001b[39mif\u001b[39;00m flags \u001b[39m!=\u001b[39m \u001b[39m0\u001b[39m:\n\u001b[1;32m   <a href='file:///usr/lib/python3.9/ssl.py?line=1237'>1238</a>\u001b[0m         \u001b[39mraise\u001b[39;00m \u001b[39mValueError\u001b[39;00m(\n\u001b[1;32m   <a href='file:///usr/lib/python3.9/ssl.py?line=1238'>1239</a>\u001b[0m           \u001b[39m\"\u001b[39m\u001b[39mnon-zero flags not allowed in calls to recv_into() on \u001b[39m\u001b[39m%s\u001b[39;00m\u001b[39m\"\u001b[39m \u001b[39m%\u001b[39m\n\u001b[1;32m   <a href='file:///usr/lib/python3.9/ssl.py?line=1239'>1240</a>\u001b[0m           \u001b[39mself\u001b[39m\u001b[39m.\u001b[39m\u001b[39m__class__\u001b[39m)\n\u001b[0;32m-> <a href='file:///usr/lib/python3.9/ssl.py?line=1240'>1241</a>\u001b[0m     \u001b[39mreturn\u001b[39;00m \u001b[39mself\u001b[39;49m\u001b[39m.\u001b[39;49mread(nbytes, buffer)\n\u001b[1;32m   <a href='file:///usr/lib/python3.9/ssl.py?line=1241'>1242</a>\u001b[0m \u001b[39melse\u001b[39;00m:\n\u001b[1;32m   <a href='file:///usr/lib/python3.9/ssl.py?line=1242'>1243</a>\u001b[0m     \u001b[39mreturn\u001b[39;00m \u001b[39msuper\u001b[39m()\u001b[39m.\u001b[39mrecv_into(buffer, nbytes, flags)\n",
      "File \u001b[0;32m/usr/lib/python3.9/ssl.py:1099\u001b[0m, in \u001b[0;36mSSLSocket.read\u001b[0;34m(self, len, buffer)\u001b[0m\n\u001b[1;32m   <a href='file:///usr/lib/python3.9/ssl.py?line=1096'>1097</a>\u001b[0m \u001b[39mtry\u001b[39;00m:\n\u001b[1;32m   <a href='file:///usr/lib/python3.9/ssl.py?line=1097'>1098</a>\u001b[0m     \u001b[39mif\u001b[39;00m buffer \u001b[39mis\u001b[39;00m \u001b[39mnot\u001b[39;00m \u001b[39mNone\u001b[39;00m:\n\u001b[0;32m-> <a href='file:///usr/lib/python3.9/ssl.py?line=1098'>1099</a>\u001b[0m         \u001b[39mreturn\u001b[39;00m \u001b[39mself\u001b[39;49m\u001b[39m.\u001b[39;49m_sslobj\u001b[39m.\u001b[39;49mread(\u001b[39mlen\u001b[39;49m, buffer)\n\u001b[1;32m   <a href='file:///usr/lib/python3.9/ssl.py?line=1099'>1100</a>\u001b[0m     \u001b[39melse\u001b[39;00m:\n\u001b[1;32m   <a href='file:///usr/lib/python3.9/ssl.py?line=1100'>1101</a>\u001b[0m         \u001b[39mreturn\u001b[39;00m \u001b[39mself\u001b[39m\u001b[39m.\u001b[39m_sslobj\u001b[39m.\u001b[39mread(\u001b[39mlen\u001b[39m)\n",
      "\u001b[0;31mKeyboardInterrupt\u001b[0m: "
     ]
    }
   ],
   "source": [
    "# Download data\n",
    "for class_name in CLASSES:\n",
    "\tresponse = google_images_download.googleimagesdownload()\n",
    "\tdownloader.download(\n",
    "\t\tclass_name,\n",
    "\t\tlimit=IMGS_PER_CLASS,\n",
    "\t\toutput_dir=class_name,\n",
    "\t\tadult_filter_off=False,\n",
    "\t\tforce_replace=False,\n",
    "\t\ttimeout=60,\n",
    "\t\tverbose=False\n",
    "\t)"
   ]
  },
  {
   "cell_type": "code",
   "execution_count": null,
   "metadata": {},
   "outputs": [],
   "source": []
  },
  {
   "cell_type": "code",
   "execution_count": null,
   "metadata": {},
   "outputs": [],
   "source": []
  }
 ],
 "metadata": {
  "kernelspec": {
   "display_name": "Python 3 (ipykernel)",
   "language": "python",
   "name": "python3"
  },
  "language_info": {
   "codemirror_mode": {
    "name": "ipython",
    "version": 3
   },
   "file_extension": ".py",
   "mimetype": "text/x-python",
   "name": "python",
   "nbconvert_exporter": "python",
   "pygments_lexer": "ipython3",
   "version": "3.9.7"
  },
  "orig_nbformat": 4
 },
 "nbformat": 4,
 "nbformat_minor": 2
}
