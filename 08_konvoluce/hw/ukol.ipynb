{
 "cells": [
  {
   "cell_type": "code",
   "execution_count": null,
   "metadata": {},
   "outputs": [],
   "source": [
    "!pip install bing-image-downloader"
   ]
  },
  {
   "cell_type": "code",
   "execution_count": null,
   "metadata": {},
   "outputs": [],
   "source": [
    "import tensorflow as tf\n",
    "import numpy as np\n",
    "from bing_image_downloader import downloader"
   ]
  },
  {
   "cell_type": "code",
   "execution_count": 24,
   "metadata": {},
   "outputs": [],
   "source": [
    "CLASSES = [\n",
    "\t'macbook',\n",
    "\t'toilet',\n",
    "\t'equation',\n",
    "\t'programming',\n",
    "\t'keyboard',\n",
    "\t'phone',\n",
    "]\n",
    "IMGS_PER_CLASS = 20"
   ]
  },
  {
   "cell_type": "code",
   "execution_count": 25,
   "metadata": {},
   "outputs": [
    {
     "name": "stdout",
     "output_type": "stream",
     "text": [
      "[%] Downloading Images to /home/jankaifer/Projects/acap-ocr/tensorflow/macbook/macbook\n",
      "[!] Issue getting: https://appleinclusion.com/wp-content/uploads/2019/05/howard-lawrence-b-1141813-unsplash-1.jpg\n",
      "[!] Error:: HTTP Error 404: Not Found\n",
      "[!] Issue getting: https://external-preview.redd.it/5BCTe6GcIWnfl0RT6W9jsNIOeRoQ4K36oc24vpmzAeY.jpg?auto=webp&amp;s=2c9d35b3a5b39c78d0699d35c48e34a6214d2cb3\n",
      "[!] Error:: HTTP Error 403: Forbidden\n",
      "[!] Issue getting: https://preview.redd.it/b0oy5ewj05e51.jpg?auto=webp&amp;s=be3cf283476f60f65b4b1d058c0441ddc2c93a21\n",
      "[!] Error:: HTTP Error 403: Forbidden\n"
     ]
    },
    {
     "ename": "KeyboardInterrupt",
     "evalue": "",
     "output_type": "error",
     "traceback": [
      "\u001b[0;31m---------------------------------------------------------------------------\u001b[0m",
      "\u001b[0;31mKeyboardInterrupt\u001b[0m                         Traceback (most recent call last)",
      "\u001b[1;32m/Users/jankaifer/Projects/school/Prirodou-inspirovane-algoritmy/08_konvoluce/hw/ukol.ipynb Cell 4'\u001b[0m in \u001b[0;36m<cell line: 2>\u001b[0;34m()\u001b[0m\n\u001b[1;32m      <a href='vscode-notebook-cell:/Users/jankaifer/Projects/school/Prirodou-inspirovane-algoritmy/08_konvoluce/hw/ukol.ipynb#ch0000002?line=1'>2</a>\u001b[0m \u001b[39mfor\u001b[39;00m class_name \u001b[39min\u001b[39;00m CLASSES:\n\u001b[1;32m      <a href='vscode-notebook-cell:/Users/jankaifer/Projects/school/Prirodou-inspirovane-algoritmy/08_konvoluce/hw/ukol.ipynb#ch0000002?line=2'>3</a>\u001b[0m \tresponse \u001b[39m=\u001b[39m google_images_download\u001b[39m.\u001b[39mgoogleimagesdownload()\n\u001b[0;32m----> <a href='vscode-notebook-cell:/Users/jankaifer/Projects/school/Prirodou-inspirovane-algoritmy/08_konvoluce/hw/ukol.ipynb#ch0000002?line=3'>4</a>\u001b[0m \tdownloader\u001b[39m.\u001b[39;49mdownload(\n\u001b[1;32m      <a href='vscode-notebook-cell:/Users/jankaifer/Projects/school/Prirodou-inspirovane-algoritmy/08_konvoluce/hw/ukol.ipynb#ch0000002?line=4'>5</a>\u001b[0m \t\tclass_name,\n\u001b[1;32m      <a href='vscode-notebook-cell:/Users/jankaifer/Projects/school/Prirodou-inspirovane-algoritmy/08_konvoluce/hw/ukol.ipynb#ch0000002?line=5'>6</a>\u001b[0m \t\tlimit\u001b[39m=\u001b[39;49mIMGS_PER_CLASS,\n\u001b[1;32m      <a href='vscode-notebook-cell:/Users/jankaifer/Projects/school/Prirodou-inspirovane-algoritmy/08_konvoluce/hw/ukol.ipynb#ch0000002?line=6'>7</a>\u001b[0m \t\toutput_dir\u001b[39m=\u001b[39;49mclass_name,\n\u001b[1;32m      <a href='vscode-notebook-cell:/Users/jankaifer/Projects/school/Prirodou-inspirovane-algoritmy/08_konvoluce/hw/ukol.ipynb#ch0000002?line=7'>8</a>\u001b[0m \t\tadult_filter_off\u001b[39m=\u001b[39;49m\u001b[39mFalse\u001b[39;49;00m,\n\u001b[1;32m      <a href='vscode-notebook-cell:/Users/jankaifer/Projects/school/Prirodou-inspirovane-algoritmy/08_konvoluce/hw/ukol.ipynb#ch0000002?line=8'>9</a>\u001b[0m \t\tforce_replace\u001b[39m=\u001b[39;49m\u001b[39mFalse\u001b[39;49;00m,\n\u001b[1;32m     <a href='vscode-notebook-cell:/Users/jankaifer/Projects/school/Prirodou-inspirovane-algoritmy/08_konvoluce/hw/ukol.ipynb#ch0000002?line=9'>10</a>\u001b[0m \t\ttimeout\u001b[39m=\u001b[39;49m\u001b[39m60\u001b[39;49m,\n\u001b[1;32m     <a href='vscode-notebook-cell:/Users/jankaifer/Projects/school/Prirodou-inspirovane-algoritmy/08_konvoluce/hw/ukol.ipynb#ch0000002?line=10'>11</a>\u001b[0m \t\tverbose\u001b[39m=\u001b[39;49m\u001b[39mFalse\u001b[39;49;00m\n\u001b[1;32m     <a href='vscode-notebook-cell:/Users/jankaifer/Projects/school/Prirodou-inspirovane-algoritmy/08_konvoluce/hw/ukol.ipynb#ch0000002?line=11'>12</a>\u001b[0m \t)\n",
      "File \u001b[0;32m~/Projects/acap-ocr/tensorflow/.venv/lib/python3.9/site-packages/bing_image_downloader/downloader.py:38\u001b[0m, in \u001b[0;36mdownload\u001b[0;34m(query, limit, output_dir, adult_filter_off, force_replace, timeout, filter, verbose)\u001b[0m\n\u001b[1;32m     <a href='file:///Users/jankaifer/Projects/acap-ocr/tensorflow/.venv/lib/python3.9/site-packages/bing_image_downloader/downloader.py?line=35'>36</a>\u001b[0m \u001b[39mprint\u001b[39m(\u001b[39m\"\u001b[39m\u001b[39m[\u001b[39m\u001b[39m%\u001b[39m\u001b[39m] Downloading Images to \u001b[39m\u001b[39m{}\u001b[39;00m\u001b[39m\"\u001b[39m\u001b[39m.\u001b[39mformat(\u001b[39mstr\u001b[39m(image_dir\u001b[39m.\u001b[39mabsolute())))\n\u001b[1;32m     <a href='file:///Users/jankaifer/Projects/acap-ocr/tensorflow/.venv/lib/python3.9/site-packages/bing_image_downloader/downloader.py?line=36'>37</a>\u001b[0m bing \u001b[39m=\u001b[39m Bing(query, limit, image_dir, adult, timeout, \u001b[39mfilter\u001b[39m, verbose)\n\u001b[0;32m---> <a href='file:///Users/jankaifer/Projects/acap-ocr/tensorflow/.venv/lib/python3.9/site-packages/bing_image_downloader/downloader.py?line=37'>38</a>\u001b[0m bing\u001b[39m.\u001b[39;49mrun()\n",
      "File \u001b[0;32m~/Projects/acap-ocr/tensorflow/.venv/lib/python3.9/site-packages/bing_image_downloader/bing.py:112\u001b[0m, in \u001b[0;36mBing.run\u001b[0;34m(self)\u001b[0m\n\u001b[1;32m    <a href='file:///Users/jankaifer/Projects/acap-ocr/tensorflow/.venv/lib/python3.9/site-packages/bing_image_downloader/bing.py?line=109'>110</a>\u001b[0m         \u001b[39mif\u001b[39;00m \u001b[39mself\u001b[39m\u001b[39m.\u001b[39mdownload_count \u001b[39m<\u001b[39m \u001b[39mself\u001b[39m\u001b[39m.\u001b[39mlimit \u001b[39mand\u001b[39;00m link \u001b[39mnot\u001b[39;00m \u001b[39min\u001b[39;00m \u001b[39mself\u001b[39m\u001b[39m.\u001b[39mseen:\n\u001b[1;32m    <a href='file:///Users/jankaifer/Projects/acap-ocr/tensorflow/.venv/lib/python3.9/site-packages/bing_image_downloader/bing.py?line=110'>111</a>\u001b[0m             \u001b[39mself\u001b[39m\u001b[39m.\u001b[39mseen\u001b[39m.\u001b[39madd(link)\n\u001b[0;32m--> <a href='file:///Users/jankaifer/Projects/acap-ocr/tensorflow/.venv/lib/python3.9/site-packages/bing_image_downloader/bing.py?line=111'>112</a>\u001b[0m             \u001b[39mself\u001b[39;49m\u001b[39m.\u001b[39;49mdownload_image(link)\n\u001b[1;32m    <a href='file:///Users/jankaifer/Projects/acap-ocr/tensorflow/.venv/lib/python3.9/site-packages/bing_image_downloader/bing.py?line=113'>114</a>\u001b[0m     \u001b[39mself\u001b[39m\u001b[39m.\u001b[39mpage_counter \u001b[39m+\u001b[39m\u001b[39m=\u001b[39m \u001b[39m1\u001b[39m\n\u001b[1;32m    <a href='file:///Users/jankaifer/Projects/acap-ocr/tensorflow/.venv/lib/python3.9/site-packages/bing_image_downloader/bing.py?line=114'>115</a>\u001b[0m \u001b[39mprint\u001b[39m(\u001b[39m\"\u001b[39m\u001b[39m\\n\u001b[39;00m\u001b[39m\\n\u001b[39;00m\u001b[39m[\u001b[39m\u001b[39m%\u001b[39m\u001b[39m] Done. Downloaded \u001b[39m\u001b[39m{}\u001b[39;00m\u001b[39m images.\u001b[39m\u001b[39m\"\u001b[39m\u001b[39m.\u001b[39mformat(\u001b[39mself\u001b[39m\u001b[39m.\u001b[39mdownload_count))\n",
      "File \u001b[0;32m~/Projects/acap-ocr/tensorflow/.venv/lib/python3.9/site-packages/bing_image_downloader/bing.py:80\u001b[0m, in \u001b[0;36mBing.download_image\u001b[0;34m(self, link)\u001b[0m\n\u001b[1;32m     <a href='file:///Users/jankaifer/Projects/acap-ocr/tensorflow/.venv/lib/python3.9/site-packages/bing_image_downloader/bing.py?line=75'>76</a>\u001b[0m \u001b[39mif\u001b[39;00m \u001b[39mself\u001b[39m\u001b[39m.\u001b[39mverbose:\n\u001b[1;32m     <a href='file:///Users/jankaifer/Projects/acap-ocr/tensorflow/.venv/lib/python3.9/site-packages/bing_image_downloader/bing.py?line=76'>77</a>\u001b[0m     \u001b[39m# Download the image\u001b[39;00m\n\u001b[1;32m     <a href='file:///Users/jankaifer/Projects/acap-ocr/tensorflow/.venv/lib/python3.9/site-packages/bing_image_downloader/bing.py?line=77'>78</a>\u001b[0m     \u001b[39mprint\u001b[39m(\u001b[39m\"\u001b[39m\u001b[39m[\u001b[39m\u001b[39m%\u001b[39m\u001b[39m] Downloading Image #\u001b[39m\u001b[39m{}\u001b[39;00m\u001b[39m from \u001b[39m\u001b[39m{}\u001b[39;00m\u001b[39m\"\u001b[39m\u001b[39m.\u001b[39mformat(\u001b[39mself\u001b[39m\u001b[39m.\u001b[39mdownload_count, link))\n\u001b[0;32m---> <a href='file:///Users/jankaifer/Projects/acap-ocr/tensorflow/.venv/lib/python3.9/site-packages/bing_image_downloader/bing.py?line=79'>80</a>\u001b[0m \u001b[39mself\u001b[39;49m\u001b[39m.\u001b[39;49msave_image(link, \u001b[39mself\u001b[39;49m\u001b[39m.\u001b[39;49moutput_dir\u001b[39m.\u001b[39;49mjoinpath(\u001b[39m\"\u001b[39;49m\u001b[39mImage_\u001b[39;49m\u001b[39m{}\u001b[39;49;00m\u001b[39m.\u001b[39;49m\u001b[39m{}\u001b[39;49;00m\u001b[39m\"\u001b[39;49m\u001b[39m.\u001b[39;49mformat(\n\u001b[1;32m     <a href='file:///Users/jankaifer/Projects/acap-ocr/tensorflow/.venv/lib/python3.9/site-packages/bing_image_downloader/bing.py?line=80'>81</a>\u001b[0m     \u001b[39mstr\u001b[39;49m(\u001b[39mself\u001b[39;49m\u001b[39m.\u001b[39;49mdownload_count), file_type)))\n\u001b[1;32m     <a href='file:///Users/jankaifer/Projects/acap-ocr/tensorflow/.venv/lib/python3.9/site-packages/bing_image_downloader/bing.py?line=81'>82</a>\u001b[0m \u001b[39mif\u001b[39;00m \u001b[39mself\u001b[39m\u001b[39m.\u001b[39mverbose:\n\u001b[1;32m     <a href='file:///Users/jankaifer/Projects/acap-ocr/tensorflow/.venv/lib/python3.9/site-packages/bing_image_downloader/bing.py?line=82'>83</a>\u001b[0m     \u001b[39mprint\u001b[39m(\u001b[39m\"\u001b[39m\u001b[39m[\u001b[39m\u001b[39m%\u001b[39m\u001b[39m] File Downloaded !\u001b[39m\u001b[39m\\n\u001b[39;00m\u001b[39m\"\u001b[39m)\n",
      "File \u001b[0;32m~/Projects/acap-ocr/tensorflow/.venv/lib/python3.9/site-packages/bing_image_downloader/bing.py:58\u001b[0m, in \u001b[0;36mBing.save_image\u001b[0;34m(self, link, file_path)\u001b[0m\n\u001b[1;32m     <a href='file:///Users/jankaifer/Projects/acap-ocr/tensorflow/.venv/lib/python3.9/site-packages/bing_image_downloader/bing.py?line=55'>56</a>\u001b[0m \u001b[39mdef\u001b[39;00m \u001b[39msave_image\u001b[39m(\u001b[39mself\u001b[39m, link, file_path):\n\u001b[1;32m     <a href='file:///Users/jankaifer/Projects/acap-ocr/tensorflow/.venv/lib/python3.9/site-packages/bing_image_downloader/bing.py?line=56'>57</a>\u001b[0m     request \u001b[39m=\u001b[39m urllib\u001b[39m.\u001b[39mrequest\u001b[39m.\u001b[39mRequest(link, \u001b[39mNone\u001b[39;00m, \u001b[39mself\u001b[39m\u001b[39m.\u001b[39mheaders)\n\u001b[0;32m---> <a href='file:///Users/jankaifer/Projects/acap-ocr/tensorflow/.venv/lib/python3.9/site-packages/bing_image_downloader/bing.py?line=57'>58</a>\u001b[0m     image \u001b[39m=\u001b[39m urllib\u001b[39m.\u001b[39;49mrequest\u001b[39m.\u001b[39;49murlopen(request, timeout\u001b[39m=\u001b[39;49m\u001b[39mself\u001b[39;49m\u001b[39m.\u001b[39;49mtimeout)\u001b[39m.\u001b[39;49mread()\n\u001b[1;32m     <a href='file:///Users/jankaifer/Projects/acap-ocr/tensorflow/.venv/lib/python3.9/site-packages/bing_image_downloader/bing.py?line=58'>59</a>\u001b[0m     \u001b[39mif\u001b[39;00m \u001b[39mnot\u001b[39;00m imghdr\u001b[39m.\u001b[39mwhat(\u001b[39mNone\u001b[39;00m, image):\n\u001b[1;32m     <a href='file:///Users/jankaifer/Projects/acap-ocr/tensorflow/.venv/lib/python3.9/site-packages/bing_image_downloader/bing.py?line=59'>60</a>\u001b[0m         \u001b[39mprint\u001b[39m(\u001b[39m'\u001b[39m\u001b[39m[Error]Invalid image, not saving \u001b[39m\u001b[39m{}\u001b[39;00m\u001b[39m\\n\u001b[39;00m\u001b[39m'\u001b[39m\u001b[39m.\u001b[39mformat(link))\n",
      "File \u001b[0;32m/usr/lib/python3.9/http/client.py:475\u001b[0m, in \u001b[0;36mHTTPResponse.read\u001b[0;34m(self, amt)\u001b[0m\n\u001b[1;32m    <a href='file:///usr/lib/python3.9/http/client.py?line=472'>473</a>\u001b[0m \u001b[39melse\u001b[39;00m:\n\u001b[1;32m    <a href='file:///usr/lib/python3.9/http/client.py?line=473'>474</a>\u001b[0m     \u001b[39mtry\u001b[39;00m:\n\u001b[0;32m--> <a href='file:///usr/lib/python3.9/http/client.py?line=474'>475</a>\u001b[0m         s \u001b[39m=\u001b[39m \u001b[39mself\u001b[39;49m\u001b[39m.\u001b[39;49m_safe_read(\u001b[39mself\u001b[39;49m\u001b[39m.\u001b[39;49mlength)\n\u001b[1;32m    <a href='file:///usr/lib/python3.9/http/client.py?line=475'>476</a>\u001b[0m     \u001b[39mexcept\u001b[39;00m IncompleteRead:\n\u001b[1;32m    <a href='file:///usr/lib/python3.9/http/client.py?line=476'>477</a>\u001b[0m         \u001b[39mself\u001b[39m\u001b[39m.\u001b[39m_close_conn()\n",
      "File \u001b[0;32m/usr/lib/python3.9/http/client.py:625\u001b[0m, in \u001b[0;36mHTTPResponse._safe_read\u001b[0;34m(self, amt)\u001b[0m\n\u001b[1;32m    <a href='file:///usr/lib/python3.9/http/client.py?line=622'>623</a>\u001b[0m s \u001b[39m=\u001b[39m []\n\u001b[1;32m    <a href='file:///usr/lib/python3.9/http/client.py?line=623'>624</a>\u001b[0m \u001b[39mwhile\u001b[39;00m amt \u001b[39m>\u001b[39m \u001b[39m0\u001b[39m:\n\u001b[0;32m--> <a href='file:///usr/lib/python3.9/http/client.py?line=624'>625</a>\u001b[0m     chunk \u001b[39m=\u001b[39m \u001b[39mself\u001b[39;49m\u001b[39m.\u001b[39;49mfp\u001b[39m.\u001b[39;49mread(\u001b[39mmin\u001b[39;49m(amt, MAXAMOUNT))\n\u001b[1;32m    <a href='file:///usr/lib/python3.9/http/client.py?line=625'>626</a>\u001b[0m     \u001b[39mif\u001b[39;00m \u001b[39mnot\u001b[39;00m chunk:\n\u001b[1;32m    <a href='file:///usr/lib/python3.9/http/client.py?line=626'>627</a>\u001b[0m         \u001b[39mraise\u001b[39;00m IncompleteRead(\u001b[39mb\u001b[39m\u001b[39m'\u001b[39m\u001b[39m'\u001b[39m\u001b[39m.\u001b[39mjoin(s), amt)\n",
      "File \u001b[0;32m/usr/lib/python3.9/socket.py:704\u001b[0m, in \u001b[0;36mSocketIO.readinto\u001b[0;34m(self, b)\u001b[0m\n\u001b[1;32m    <a href='file:///usr/lib/python3.9/socket.py?line=701'>702</a>\u001b[0m \u001b[39mwhile\u001b[39;00m \u001b[39mTrue\u001b[39;00m:\n\u001b[1;32m    <a href='file:///usr/lib/python3.9/socket.py?line=702'>703</a>\u001b[0m     \u001b[39mtry\u001b[39;00m:\n\u001b[0;32m--> <a href='file:///usr/lib/python3.9/socket.py?line=703'>704</a>\u001b[0m         \u001b[39mreturn\u001b[39;00m \u001b[39mself\u001b[39;49m\u001b[39m.\u001b[39;49m_sock\u001b[39m.\u001b[39;49mrecv_into(b)\n\u001b[1;32m    <a href='file:///usr/lib/python3.9/socket.py?line=704'>705</a>\u001b[0m     \u001b[39mexcept\u001b[39;00m timeout:\n\u001b[1;32m    <a href='file:///usr/lib/python3.9/socket.py?line=705'>706</a>\u001b[0m         \u001b[39mself\u001b[39m\u001b[39m.\u001b[39m_timeout_occurred \u001b[39m=\u001b[39m \u001b[39mTrue\u001b[39;00m\n",
      "File \u001b[0;32m/usr/lib/python3.9/ssl.py:1241\u001b[0m, in \u001b[0;36mSSLSocket.recv_into\u001b[0;34m(self, buffer, nbytes, flags)\u001b[0m\n\u001b[1;32m   <a href='file:///usr/lib/python3.9/ssl.py?line=1236'>1237</a>\u001b[0m     \u001b[39mif\u001b[39;00m flags \u001b[39m!=\u001b[39m \u001b[39m0\u001b[39m:\n\u001b[1;32m   <a href='file:///usr/lib/python3.9/ssl.py?line=1237'>1238</a>\u001b[0m         \u001b[39mraise\u001b[39;00m \u001b[39mValueError\u001b[39;00m(\n\u001b[1;32m   <a href='file:///usr/lib/python3.9/ssl.py?line=1238'>1239</a>\u001b[0m           \u001b[39m\"\u001b[39m\u001b[39mnon-zero flags not allowed in calls to recv_into() on \u001b[39m\u001b[39m%s\u001b[39;00m\u001b[39m\"\u001b[39m \u001b[39m%\u001b[39m\n\u001b[1;32m   <a href='file:///usr/lib/python3.9/ssl.py?line=1239'>1240</a>\u001b[0m           \u001b[39mself\u001b[39m\u001b[39m.\u001b[39m\u001b[39m__class__\u001b[39m)\n\u001b[0;32m-> <a href='file:///usr/lib/python3.9/ssl.py?line=1240'>1241</a>\u001b[0m     \u001b[39mreturn\u001b[39;00m \u001b[39mself\u001b[39;49m\u001b[39m.\u001b[39;49mread(nbytes, buffer)\n\u001b[1;32m   <a href='file:///usr/lib/python3.9/ssl.py?line=1241'>1242</a>\u001b[0m \u001b[39melse\u001b[39;00m:\n\u001b[1;32m   <a href='file:///usr/lib/python3.9/ssl.py?line=1242'>1243</a>\u001b[0m     \u001b[39mreturn\u001b[39;00m \u001b[39msuper\u001b[39m()\u001b[39m.\u001b[39mrecv_into(buffer, nbytes, flags)\n",
      "File \u001b[0;32m/usr/lib/python3.9/ssl.py:1099\u001b[0m, in \u001b[0;36mSSLSocket.read\u001b[0;34m(self, len, buffer)\u001b[0m\n\u001b[1;32m   <a href='file:///usr/lib/python3.9/ssl.py?line=1096'>1097</a>\u001b[0m \u001b[39mtry\u001b[39;00m:\n\u001b[1;32m   <a href='file:///usr/lib/python3.9/ssl.py?line=1097'>1098</a>\u001b[0m     \u001b[39mif\u001b[39;00m buffer \u001b[39mis\u001b[39;00m \u001b[39mnot\u001b[39;00m \u001b[39mNone\u001b[39;00m:\n\u001b[0;32m-> <a href='file:///usr/lib/python3.9/ssl.py?line=1098'>1099</a>\u001b[0m         \u001b[39mreturn\u001b[39;00m \u001b[39mself\u001b[39;49m\u001b[39m.\u001b[39;49m_sslobj\u001b[39m.\u001b[39;49mread(\u001b[39mlen\u001b[39;49m, buffer)\n\u001b[1;32m   <a href='file:///usr/lib/python3.9/ssl.py?line=1099'>1100</a>\u001b[0m     \u001b[39melse\u001b[39;00m:\n\u001b[1;32m   <a href='file:///usr/lib/python3.9/ssl.py?line=1100'>1101</a>\u001b[0m         \u001b[39mreturn\u001b[39;00m \u001b[39mself\u001b[39m\u001b[39m.\u001b[39m_sslobj\u001b[39m.\u001b[39mread(\u001b[39mlen\u001b[39m)\n",
      "\u001b[0;31mKeyboardInterrupt\u001b[0m: "
     ]
    }
   ],
   "source": [
    "# Download data\n",
    "for class_name in CLASSES:\n",
    "\tresponse = google_images_download.googleimagesdownload()\n",
    "\tdownloader.download(\n",
    "\t\tclass_name,\n",
    "\t\tlimit=IMGS_PER_CLASS,\n",
    "\t\toutput_dir=class_name,\n",
    "\t\tadult_filter_off=False,\n",
    "\t\tforce_replace=False,\n",
    "\t\ttimeout=60,\n",
    "\t\tverbose=False\n",
    "\t)"
   ]
  },
  {
   "cell_type": "code",
   "execution_count": null,
   "metadata": {},
   "outputs": [],
   "source": []
  },
  {
   "cell_type": "code",
   "execution_count": null,
   "metadata": {},
   "outputs": [],
   "source": []
  }
 ],
 "metadata": {
  "kernelspec": {
   "display_name": "Python 3 (ipykernel)",
   "language": "python",
   "name": "python3"
  },
  "language_info": {
   "codemirror_mode": {
    "name": "ipython",
    "version": 3
   },
   "file_extension": ".py",
   "mimetype": "text/x-python",
   "name": "python",
   "nbconvert_exporter": "python",
   "pygments_lexer": "ipython3",
   "version": "3.9.7"
  },
  "orig_nbformat": 4
 },
 "nbformat": 4,
 "nbformat_minor": 2
}
